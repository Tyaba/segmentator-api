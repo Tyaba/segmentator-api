{
 "cells": [
  {
   "cell_type": "code",
   "execution_count": 1,
   "metadata": {},
   "outputs": [
    {
     "name": "stdout",
     "output_type": "stream",
     "text": [
      "/home/yoshino_teppei/ghq/github.com/Tyaba/segmenter-api\n",
      "/home/yoshino_teppei/ghq/github.com/Tyaba/segmenter-api\n"
     ]
    }
   ],
   "source": [
    "from segmenter_api.utils.file import get_project_dir\n",
    "\n",
    "%cd {get_project_dir()}\n",
    "print(get_project_dir())"
   ]
  },
  {
   "cell_type": "code",
   "execution_count": 2,
   "metadata": {},
   "outputs": [],
   "source": [
    "from pathlib import Path\n",
    "\n",
    "from segmenter_api.di import resolve\n",
    "from segmenter_api.domain.repository.file import FileRepositoryInterface"
   ]
  },
  {
   "cell_type": "code",
   "execution_count": 3,
   "metadata": {},
   "outputs": [],
   "source": [
    "file_repository = resolve(FileRepositoryInterface)"
   ]
  },
  {
   "cell_type": "code",
   "execution_count": 4,
   "metadata": {},
   "outputs": [],
   "source": [
    "model_path = Path(\"models/microsoft/Florence-2-large\")"
   ]
  },
  {
   "cell_type": "code",
   "execution_count": 5,
   "metadata": {},
   "outputs": [
    {
     "name": "stdout",
     "output_type": "stream",
     "text": [
      "{\"severity\": \"INFO\", \"timestamp\": \"2025-04-14_04:17:23\", \"message\": \"\\n            downloading 13 files from\\n            bucket: segmenter-api\\n            paths: ['models/microsoft/Florence-2-large/added_tokens.json', 'models/microsoft/Florence-2-large/config.json', 'models/microsoft/Florence-2-large/configuration_florence2.py', 'models/microsoft/Florence-2-large/generation_config.json', 'models/microsoft/Florence-2-large/merges.txt', 'models/microsoft/Florence-2-large/modeling_florence2.py', 'models/microsoft/Florence-2-large/preprocessor_config.json', 'models/microsoft/Florence-2-large/processing_florence2.py', 'models/microsoft/Florence-2-large/pytorch_model.bin', 'models/microsoft/Florence-2-large/special_tokens_map.json', 'models/microsoft/Florence-2-large/tokenizer.json', 'models/microsoft/Florence-2-large/tokenizer_config.json', 'models/microsoft/Florence-2-large/vocab.json']\\n            \"}\n"
     ]
    },
    {
     "data": {
      "application/vnd.jupyter.widget-view+json": {
       "model_id": "819a7549c9c14a5dbeabdfc8dc2604ac",
       "version_major": 2,
       "version_minor": 0
      },
      "text/plain": [
       "  0%|          | 0/13 [00:00<?, ?it/s]"
      ]
     },
     "metadata": {},
     "output_type": "display_data"
    },
    {
     "data": {
      "text/plain": [
       "[PosixPath('models/microsoft/Florence-2-large')]"
      ]
     },
     "execution_count": 5,
     "metadata": {},
     "output_type": "execute_result"
    }
   ],
   "source": [
    "file_repository.download_to_dir(\n",
    "    source_paths=[Path(\"models/microsoft/Florence-2-large\")],\n",
    "    destination_dir=model_path,\n",
    ")"
   ]
  },
  {
   "cell_type": "code",
   "execution_count": null,
   "metadata": {},
   "outputs": [],
   "source": []
  }
 ],
 "metadata": {
  "language_info": {
   "name": "python"
  }
 },
 "nbformat": 4,
 "nbformat_minor": 2
}
